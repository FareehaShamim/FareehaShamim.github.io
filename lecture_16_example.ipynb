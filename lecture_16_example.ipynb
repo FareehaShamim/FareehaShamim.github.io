{
 "cells": [
  {
   "cell_type": "markdown",
   "id": "ff7840f9",
   "metadata": {},
   "source": [
    "# Lecture 16 Example"
   ]
  }
 ],
 "metadata": {
  "language_info": {
   "name": "python"
  }
 },
 "nbformat": 4,
 "nbformat_minor": 5
}
